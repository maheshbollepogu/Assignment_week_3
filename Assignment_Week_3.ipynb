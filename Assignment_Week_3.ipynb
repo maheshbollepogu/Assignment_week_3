{
 "cells": [
  {
   "cell_type": "code",
   "execution_count": 2,
   "id": "0ea1e34e-19ff-4f0d-b2f4-9b13ccf0831d",
   "metadata": {},
   "outputs": [],
   "source": [
    "# Q1\n",
    "\"\"\"def keyword is used to create function\"\"\""
   ]
  },
  {
   "cell_type": "code",
   "execution_count": 59,
   "id": "2c70a6d0-13b8-45e0-95d1-fd0b16e17221",
   "metadata": {},
   "outputs": [
    {
     "name": "stdout",
     "output_type": "stream",
     "text": [
      "[1, 3, 5, 7, 9, 11, 13, 15, 17, 19, 21, 23, 25]\n"
     ]
    }
   ],
   "source": [
    "def odd_numbers_in_range(start, end):\n",
    "    odd_numbers = []\n",
    "    for num in range(start, end + 1):\n",
    "        if num % 2 != 0:\n",
    "            odd_numbers.append(num)\n",
    "    return odd_numbers\n",
    "result = odd_numbers_in_range(1, 25)\n",
    "print(result)"
   ]
  },
  {
   "cell_type": "code",
   "execution_count": 46,
   "id": "d75ffbf9-7c23-4190-b7c1-fd025c637aa7",
   "metadata": {},
   "outputs": [
    {
     "data": {
      "text/plain": [
       "' *args and **kwargs are special syntax in python used in function definations to allow a \\nfunction to accept a variable number of arguments.'"
      ]
     },
     "execution_count": 46,
     "metadata": {},
     "output_type": "execute_result"
    }
   ],
   "source": [
    "#Q2\n",
    "\"\"\" *args and **kwargs are special syntax in python used in function definations to allow a \n",
    "function to accept a variable number of arguments.\"\"\" "
   ]
  },
  {
   "cell_type": "code",
   "execution_count": 36,
   "id": "58f7c6fd-3b10-4e67-a49b-97c68267839e",
   "metadata": {},
   "outputs": [],
   "source": [
    "#certainly! Here's a python function that demonstrates the use of *args **kwargs:\n",
    "def demonstrate(*args, **kwargs):\n",
    "    print(\"Arguments (*args):\")\n",
    "    for arg in args:\n",
    "        print(arg)\n",
    "        print(\"\\nkeyword Arguments(**kwargs):\")\n",
    "        for key, value in kwargs.items():\n",
    "            demonstrate(43,True,name ='Mahi',Age =21)"
   ]
  },
  {
   "cell_type": "code",
   "execution_count": 37,
   "id": "0a851ee2-d397-4be5-856b-6210fcce0736",
   "metadata": {},
   "outputs": [
    {
     "name": "stdout",
     "output_type": "stream",
     "text": [
      "Arguments (*args):\n",
      "43\n",
      "\n",
      "keyword Arguments(**kwargs):\n",
      "True\n",
      "\n",
      "keyword Arguments(**kwargs):\n",
      "Mahi\n",
      "\n",
      "keyword Arguments(**kwargs):\n",
      "21\n",
      "\n",
      "keyword Arguments(**kwargs):\n"
     ]
    }
   ],
   "source": [
    "demonstrate(43,True,'Mahi',21)"
   ]
  },
  {
   "cell_type": "code",
   "execution_count": null,
   "id": "72b384ef-9f01-466d-b148-05034e291852",
   "metadata": {},
   "outputs": [],
   "source": [
    "#Q3\n",
    "\"\"\" In python, an iterator is an object that represents a stream of data. It is an essential concept \n",
    "in iterable objects and is used to traverse through elements one at a time, allowing you to iterate over a collection or \n",
    "sequence of items, such as lists, tuples, dictionaries, or custom objects\"\"\""
   ]
  },
  {
   "cell_type": "code",
   "execution_count": 56,
   "id": "3e3ada2b-1b57-4caf-8df8-b6e8a292ad17",
   "metadata": {},
   "outputs": [
    {
     "name": "stdout",
     "output_type": "stream",
     "text": [
      "2\n",
      "4\n",
      "6\n",
      "8\n",
      "10\n"
     ]
    }
   ],
   "source": [
    "list_a = [2, 4, 6, 8, 10, 12, 14, 16,18,20]\n",
    "iterator = iter(list_a)\n",
    "for _ in range(5):\n",
    "    element = next(iterator)\n",
    "    print(element)"
   ]
  },
  {
   "cell_type": "code",
   "execution_count": 52,
   "id": "b215e699-cb90-48b3-9d2d-69ffb67b09f1",
   "metadata": {},
   "outputs": [],
   "source": [
    "#Q4\n",
    "\"\"\"Generator function allows you to declare a function that behaves like an iterator, providing a \n",
    "faster and easier way to create iteratorsIn the normal function, \n",
    "we use the return keyword to return the values, and in the generator function, instead of \n",
    "using the return, we use yield to execute our iterator\n",
    "Yeild is a keyword is used to create a generator function.A type of function that is memory efficient and can be \n",
    "used like an iterator object the yield keyword will turn any expression that is given with it into a \n",
    "generator object and return it to the caller\"\"\"\n",
    "def test_gen(n):\n",
    "        for i in range(n):\n",
    "            yield a      "
   ]
  },
  {
   "cell_type": "code",
   "execution_count": 29,
   "id": "b92d6ea1-6959-49cb-8bea-81a4dbece70a",
   "metadata": {},
   "outputs": [
    {
     "data": {
      "text/plain": [
       "<generator object test_gen at 0x7f3d8067b840>"
      ]
     },
     "execution_count": 29,
     "metadata": {},
     "output_type": "execute_result"
    }
   ],
   "source": [
    "test_gen(5)"
   ]
  },
  {
   "cell_type": "code",
   "execution_count": null,
   "id": "4d34d21a-00a5-495f-9e76-15d44a3bb7cc",
   "metadata": {},
   "outputs": [
    {
     "name": "stdout",
     "output_type": "stream",
     "text": [
      "0\n",
      "1\n",
      "2\n",
      "3\n",
      "4\n"
     ]
    }
   ],
   "source": [
    "for i in range(5):\n",
    "    print(i)"
   ]
  },
  {
   "cell_type": "code",
   "execution_count": 65,
   "id": "5e033ea2-23b7-4f11-a8e9-69e7166673a0",
   "metadata": {},
   "outputs": [],
   "source": [
    "def fun_me(n):\n",
    "    for i in range(n):\n",
    "        yield n"
   ]
  },
  {
   "cell_type": "code",
   "execution_count": 66,
   "id": "ec4d28f8-e037-43ee-b34e-56bb0de82572",
   "metadata": {},
   "outputs": [
    {
     "data": {
      "text/plain": [
       "<generator object fun_me at 0x7f98121dd930>"
      ]
     },
     "execution_count": 5,
     "metadata": {},
     "output_type": "execute_result"
    }
   ],
   "source": [
    "fun_me(7)"
   ]
  },
  {
   "cell_type": "code",
   "execution_count": 67,
   "id": "756dfcf1-a71e-4880-9df0-b8f141bfe50d",
   "metadata": {},
   "outputs": [
    {
     "name": "stdout",
     "output_type": "stream",
     "text": [
      "0\n",
      "1\n",
      "2\n",
      "3\n",
      "4\n",
      "5\n",
      "6\n"
     ]
    }
   ],
   "source": [
    "for i in range(7):\n",
    "    print(i)"
   ]
  },
  {
   "cell_type": "code",
   "execution_count": 60,
   "id": "a1814953-43cf-470e-93f6-fe0f9cd770d3",
   "metadata": {},
   "outputs": [
    {
     "name": "stdout",
     "output_type": "stream",
     "text": [
      "2 3 5 7 11 13 17 19 23 29 31 37 41 43 47 53 59 61 67 71 "
     ]
    }
   ],
   "source": [
    "#Q5\n",
    "def is_prime(number):\n",
    "    if number <= 1:\n",
    "        return False\n",
    "    if number <= 3:\n",
    "        return True\n",
    "    if number % 2 == 0 or number % 3 == 0:\n",
    "        return False\n",
    "    i = 5\n",
    "    while i * i <= number:\n",
    "        if number % i == 0 or number % (i + 2) == 0:\n",
    "            return False\n",
    "        i += 6\n",
    "    return True\n",
    "\n",
    "def prime_generator():\n",
    "    number = 2\n",
    "    while number < 1000:\n",
    "        if is_prime(number):\n",
    "            yield number\n",
    "        number += 1\n",
    "prime_gen = prime_generator()\n",
    "for _ in range(20):\n",
    "    prime = next(prime_gen)\n",
    "    print(prime,end=' ')"
   ]
  }
 ],
 "metadata": {
  "kernelspec": {
   "display_name": "Python 3 (ipykernel)",
   "language": "python",
   "name": "python3"
  },
  "language_info": {
   "codemirror_mode": {
    "name": "ipython",
    "version": 3
   },
   "file_extension": ".py",
   "mimetype": "text/x-python",
   "name": "python",
   "nbconvert_exporter": "python",
   "pygments_lexer": "ipython3",
   "version": "3.10.8"
  }
 },
 "nbformat": 4,
 "nbformat_minor": 5
}
